{
 "cells": [
  {
   "cell_type": "markdown",
   "metadata": {},
   "source": [
    "# Experiment: Which drugs are \"similar\", from prescription data?"
   ]
  },
  {
   "cell_type": "markdown",
   "metadata": {},
   "source": [
    "In the USA the social program for prescription drugs is the \"Medicare Part D Prescription Drug\" program. Data regarding the prescribed drugs per provider and drug are available at https://data.cms.gov/provider-summary-by-type-of-service/medicare-part-d-prescribers/medicare-part-d-prescribers-by-provider-and-drug/\n",
    "\n",
    "On this website you can select the columns you want. I downloaded only the code for the drug provider (`Prscrbr_NPI`), the type of provider (`Prscrbr_Type`), the generic name for the drug (`Gnrc_Name`) and the total number of claims made by this provider (`Tot_Clms`):\n",
    "\n",
    "<center><img src='./image.png' width=50%></img></center>\n",
    "\n",
    "As a result, I got a 197MB zip file. I made a folder named `data` and placed the file there. In the previous notebook we did some Exploratory Data Analysis (EDA) and filtering, and saved the dataset in a more efficient format (Parquet). Lets read it."
   ]
  },
  {
   "cell_type": "code",
   "execution_count": 1,
   "metadata": {},
   "outputs": [],
   "source": [
    "from pathlib import Path\n",
    "\n",
    "import numpy as np\n",
    "import pandas as pd\n",
    "\n",
    "from utils import DATA_DIR, load_clean_data"
   ]
  },
  {
   "cell_type": "code",
   "execution_count": 2,
   "metadata": {},
   "outputs": [],
   "source": [
    "df = load_clean_data()"
   ]
  },
  {
   "cell_type": "markdown",
   "metadata": {},
   "source": [
    "Let's create a sparse matrix from the dataframe. The trick is to convert the columns of interest to categorical data, so that Pandas will identify the unique doctors and drugs, and make an integer code for each one, from zero to the number of unique items minus one."
   ]
  },
  {
   "cell_type": "code",
   "execution_count": 3,
   "metadata": {},
   "outputs": [],
   "source": [
    "df = df.reset_index(drop=True)"
   ]
  },
  {
   "cell_type": "code",
   "execution_count": 4,
   "metadata": {},
   "outputs": [],
   "source": [
    "df['Prscrbr_NPI'] = df['Prscrbr_NPI'].astype('category')\n",
    "df['Gnrc_Name'] = df['Gnrc_Name'].astype('category')\n",
    "df['Prscrbr_Type'] = df['Prscrbr_Type'].astype('category')\n",
    "df['Tot_Clms'] = df['Tot_Clms'].astype(float)"
   ]
  },
  {
   "cell_type": "code",
   "execution_count": 5,
   "metadata": {},
   "outputs": [
    {
     "name": "stdout",
     "output_type": "stream",
     "text": [
      "<class 'pandas.core.frame.DataFrame'>\n",
      "RangeIndex: 24246835 entries, 0 to 24246834\n",
      "Data columns (total 4 columns):\n",
      " #   Column        Dtype   \n",
      "---  ------        -----   \n",
      " 0   Prscrbr_NPI   category\n",
      " 1   Prscrbr_Type  category\n",
      " 2   Gnrc_Name     category\n",
      " 3   Tot_Clms      float64 \n",
      "dtypes: category(3), float64(1)\n",
      "memory usage: 367.1 MB\n"
     ]
    }
   ],
   "source": [
    "df.info()"
   ]
  },
  {
   "cell_type": "markdown",
   "metadata": {},
   "source": [
    "Let's see the categorical encoding in action. What are the drugs?"
   ]
  },
  {
   "cell_type": "code",
   "execution_count": 6,
   "metadata": {},
   "outputs": [
    {
     "data": {
      "text/plain": [
       "Index(['0.9 % Sodium Chloride', 'Abacavir Sulfate',\n",
       "       'Abacavir Sulfate/Lamivudine', 'Abacavir/Dolutegravir/Lamivudi',\n",
       "       'Abaloparatide', 'Abatacept', 'Abemaciclib', 'Abiraterone Acetate',\n",
       "       'Acalabrutinib', 'Acamprosate Calcium',\n",
       "       ...\n",
       "       'Voriconazole', 'Vortioxetine Hydrobromide', 'Warfarin Sodium',\n",
       "       'Zafirlukast', 'Zaleplon', 'Zanubrutinib', 'Ziprasidone Hcl',\n",
       "       'Zolmitriptan', 'Zolpidem Tartrate', 'Zonisamide'],\n",
       "      dtype='object', length=875)"
      ]
     },
     "execution_count": 6,
     "metadata": {},
     "output_type": "execute_result"
    }
   ],
   "source": [
    "df['Gnrc_Name'].cat.categories"
   ]
  },
  {
   "cell_type": "markdown",
   "metadata": {},
   "source": [
    "So each drug is associated with an index number. In this case, \"0.9 % Sodium Chloride\" is drug number zero, \"Abacavir Sulfate\" is drug number one, and so on."
   ]
  },
  {
   "cell_type": "markdown",
   "metadata": {},
   "source": [
    "Let's see what is stored now in the dataframe:"
   ]
  },
  {
   "cell_type": "code",
   "execution_count": 7,
   "metadata": {},
   "outputs": [
    {
     "data": {
      "text/plain": [
       "0          Amiodarone Hcl\n",
       "1     Amlodipine Besylate\n",
       "2    Atorvastatin Calcium\n",
       "3     Bisoprolol Fumarate\n",
       "4              Carvedilol\n",
       "Name: Gnrc_Name, dtype: category\n",
       "Categories (875, object): ['0.9 % Sodium Chloride', 'Abacavir Sulfate', 'Abacavir Sulfate/Lamivudine', 'Abacavir/Dolutegravir/Lamivudi', ..., 'Ziprasidone Hcl', 'Zolmitriptan', 'Zolpidem Tartrate', 'Zonisamide']"
      ]
     },
     "execution_count": 7,
     "metadata": {},
     "output_type": "execute_result"
    }
   ],
   "source": [
    "df['Gnrc_Name'].head()"
   ]
  },
  {
   "cell_type": "markdown",
   "metadata": {},
   "source": [
    "Looks like the same as before. But what about the equivalent codes?"
   ]
  },
  {
   "cell_type": "code",
   "execution_count": 8,
   "metadata": {},
   "outputs": [
    {
     "data": {
      "text/plain": [
       "0     36\n",
       "1     39\n",
       "2     64\n",
       "3     97\n",
       "4    144\n",
       "dtype: int16"
      ]
     },
     "execution_count": 8,
     "metadata": {},
     "output_type": "execute_result"
    }
   ],
   "source": [
    "df['Gnrc_Name'].cat.codes.head()"
   ]
  },
  {
   "cell_type": "markdown",
   "metadata": {},
   "source": [
    "Do the codes and names really correspond to each other? Sure they do! Look at this:"
   ]
  },
  {
   "cell_type": "code",
   "execution_count": 9,
   "metadata": {},
   "outputs": [
    {
     "name": "stdout",
     "output_type": "stream",
     "text": [
      "code is 36, name is Amiodarone Hcl\n",
      "code is 39, name is Amlodipine Besylate\n",
      "code is 64, name is Atorvastatin Calcium\n",
      "code is 97, name is Bisoprolol Fumarate\n",
      "code is 144, name is Carvedilol\n"
     ]
    }
   ],
   "source": [
    "for code in df['Gnrc_Name'].cat.codes.head():\n",
    "    print(f'code is {code}, name is {df['Gnrc_Name'].cat.categories[code]}')"
   ]
  },
  {
   "cell_type": "markdown",
   "metadata": {},
   "source": [
    "Now we can make a matrix of the data. We will use the doctor NPI as the row index and the drug name as the column index. The value of each cell will be the number of prescriptions.\n",
    "\n",
    "Mathematically, this is a matrix like any other. Computationally, we will make a sparse matrix in the CSR - Compressed Sparse Row - format (https://en.wikipedia.org/wiki/Sparse_matrix)"
   ]
  },
  {
   "cell_type": "code",
   "execution_count": 10,
   "metadata": {},
   "outputs": [],
   "source": [
    "row_index = df['Prscrbr_NPI'].cat.codes\n",
    "num_rows = df['Prscrbr_NPI'].cat.categories.size\n",
    "\n",
    "col_index = df['Gnrc_Name'].cat.codes\n",
    "num_cols = df['Gnrc_Name'].cat.categories.size\n",
    "\n",
    "values = df['Tot_Clms'].values"
   ]
  },
  {
   "cell_type": "code",
   "execution_count": 11,
   "metadata": {},
   "outputs": [],
   "source": [
    "from scipy.sparse import csr_matrix\n",
    "\n",
    "sparse_matrix = csr_matrix(\n",
    "    (values, (row_index, col_index)),\n",
    "    shape=(num_rows, num_cols),\n",
    ")"
   ]
  },
  {
   "cell_type": "code",
   "execution_count": 12,
   "metadata": {},
   "outputs": [
    {
     "data": {
      "text/plain": [
       "(537484, 875)"
      ]
     },
     "execution_count": 12,
     "metadata": {},
     "output_type": "execute_result"
    }
   ],
   "source": [
    "sparse_matrix.shape"
   ]
  },
  {
   "cell_type": "markdown",
   "metadata": {},
   "source": [
    "Now we are ready for the Singular Value Decomposition (SVD). What we want to do is to decompose our matrix $\\bm{X} \\in \\mathbb{R}^{m \\times n}$ of doctors per medication (where $m$ is the number of doctors and $n$ is the number of medications, $m \\gg n$) into a product of three matrices: $\\bm{U} \\in \\mathbb{R}^{m \\times m}$, $S \\in \\mathbb{R}^{m \\times n}$, and $V^{T} \\in \\mathbb{R}^{n \\times n}$ such that:\n",
    "\n",
    "- $\\bm{X} = \\bm{U} \\bm{S} \\bm{V}^{T}$\n",
    "- Matrices $\\bm{U}$ and $\\bm{V}$ are unitary: \n",
    "    - $\\bm{U}^{T} \\bm{U} = \\bm{U} \\bm{U}^{T} = \\bm{I}^{(m)}$ is the identity matrix of size $m$\n",
    "    - $\\bm{V}^{T} \\bm{V} = \\bm{V} \\bm{V}^{T} = \\bm{I}^{(n)}$ is the identity matrix of size $n$\n",
    "- Matrix $S$ is formed by two vertically stacked blocks (since $m \\gg n$):\n",
    "    - The top block is a diagonal matrix $\\Sigma \\in \\mathbb{R}^{n \\times n}$. The diagonal elements are all non-negative (i.e. are positive or zero) and placed in decreasing order. These numbers are the *singular values* of $\\bm{X}$\n",
    "    - The bottom block is a matrix of zeros, of size $(m - n) \\times n$"
   ]
  },
  {
   "cell_type": "code",
   "execution_count": 13,
   "metadata": {},
   "outputs": [],
   "source": [
    "from scipy.sparse.linalg import svds"
   ]
  },
  {
   "cell_type": "markdown",
   "metadata": {},
   "source": [
    "But we don't want *all* columns of $\\bm{U}$ and rows of $\\bm{V}$. We only want a few of them to investigate! So lets set a number of components to obtain, and apply the *truncated* SVD:"
   ]
  },
  {
   "cell_type": "code",
   "execution_count": 14,
   "metadata": {},
   "outputs": [],
   "source": [
    "num_components = 5"
   ]
  },
  {
   "cell_type": "code",
   "execution_count": 15,
   "metadata": {},
   "outputs": [],
   "source": [
    "U, sigma, Vt = svds(sparse_matrix, k=num_components)"
   ]
  },
  {
   "cell_type": "code",
   "execution_count": 16,
   "metadata": {},
   "outputs": [
    {
     "data": {
      "text/plain": [
       "((537484, 5), (5,), (5, 875))"
      ]
     },
     "execution_count": 16,
     "metadata": {},
     "output_type": "execute_result"
    }
   ],
   "source": [
    "U.shape, sigma.shape, Vt.shape"
   ]
  },
  {
   "cell_type": "markdown",
   "metadata": {},
   "source": [
    "So now we have `num_components` columns in $\\bm{U}$ and rows in $V^{T}$. Since this is an SVD, we already know that the columns of $\\bm{U}$ are unit vectors, and all orthogonal to each other. By computing $\\bm{U}^{T} \\bm{U}$ we calculate all dot products between the columns of $\\bm{U}$:"
   ]
  },
  {
   "cell_type": "code",
   "execution_count": 19,
   "metadata": {},
   "outputs": [
    {
     "data": {
      "text/plain": [
       "array([[ 1.,  0., -0., -0.,  0.],\n",
       "       [ 0.,  1.,  0., -0.,  0.],\n",
       "       [-0.,  0.,  1.,  0.,  0.],\n",
       "       [-0., -0.,  0.,  1., -0.],\n",
       "       [ 0.,  0.,  0., -0.,  1.]])"
      ]
     },
     "execution_count": 19,
     "metadata": {},
     "output_type": "execute_result"
    }
   ],
   "source": [
    "(U.T @ U).round(2)"
   ]
  },
  {
   "cell_type": "markdown",
   "metadata": {},
   "source": [
    "As we can see, the matrix product shows that the dot product between $\\bm{u}^{(i)}$ and $\\bm{v}^{(j)}$ is zero if $i \\neq j$ and 1 if $i = j$: $\\bm{U}^{T} \\bm{U} = \\bm{I}_{k \\times k}$. The same applies to the rows of $\\bm{V}^{T}$, that is, $V^{T} V = V^{T} (V^{T})^{T} = I_{k \\times k}$"
   ]
  },
  {
   "cell_type": "code",
   "execution_count": 20,
   "metadata": {},
   "outputs": [
    {
     "data": {
      "text/plain": [
       "array([[ 1.,  0., -0., -0., -0.],\n",
       "       [ 0.,  1., -0.,  0.,  0.],\n",
       "       [-0., -0.,  1., -0., -0.],\n",
       "       [-0.,  0., -0.,  1., -0.],\n",
       "       [-0.,  0., -0., -0.,  1.]])"
      ]
     },
     "execution_count": 20,
     "metadata": {},
     "output_type": "execute_result"
    }
   ],
   "source": [
    "(Vt @ Vt.T).round(2)"
   ]
  },
  {
   "cell_type": "markdown",
   "metadata": {},
   "source": [
    "What is interesting is the *rows* of $\\bm{U}$ and the *columns* of $\\bm{V}^{T}$:\n",
    "\n",
    "- Each row of $\\bm{U}$ is a *reduced representation* of a doctor.\n",
    "- Each column of $\\bm{V}^{T}$ is a *reduced representation* of a drug."
   ]
  },
  {
   "cell_type": "markdown",
   "metadata": {},
   "source": [
    "We can use these reduced representations in many applications:\n",
    "\n",
    "- Finding *outliers*: doctors whose prescription pattern is way off in regards to their counterparts. Say a doctor is prescribing an enormous amount of opioids but not a lot of anything else. As we find the reduced representation for that doctor, we can compare it to all other doctors (via *cosine similarity*) and see if this doctor stands out from the cohort. If so, it could be an indication of fraudulent activity.\n",
    "- Predicting future behaviour: given the current pattern of prescriptions of a doctor, we may:\n",
    "    - Find its reduced representation\n",
    "    - Reconstruct the estimated prescriptions from the reduced representation: the difference to the actual presciption data for the doctor may indicate drugs that this physician is expected to prescribe at some point.\n",
    "- Understanding the set of doctors and the set of drugs: We can look for similar groups of doctors and drugs, in an activity called *clustering*.\n",
    "\n",
    "Lets look at the doctor and drugs data to explore patterns. Save the drugs features (the reduced representation in $\\bm{V}$) in a tab-separated file, and the drug names in another text file:"
   ]
  },
  {
   "cell_type": "code",
   "execution_count": 21,
   "metadata": {},
   "outputs": [],
   "source": [
    "np.savetxt(DATA_DIR / 'drug_features.tsv', Vt.T, delimiter='\\t')"
   ]
  },
  {
   "cell_type": "code",
   "execution_count": 22,
   "metadata": {},
   "outputs": [],
   "source": [
    "np.savetxt(\n",
    "    DATA_DIR / 'drug_labels.tsv',\n",
    "    df['Gnrc_Name'].cat.categories.values,\n",
    "    delimiter='\\t',\n",
    "    fmt='%s',\n",
    "    encoding='utf-8',\n",
    ")"
   ]
  },
  {
   "cell_type": "markdown",
   "metadata": {},
   "source": [
    "Lets also save the doctors' reduced representations $\\bm{U}$ and their specialties:"
   ]
  },
  {
   "cell_type": "code",
   "execution_count": 24,
   "metadata": {},
   "outputs": [],
   "source": [
    "np.savetxt(DATA_DIR / 'physician_features.tsv', U, delimiter='\\t')"
   ]
  },
  {
   "cell_type": "code",
   "execution_count": 26,
   "metadata": {},
   "outputs": [
    {
     "data": {
      "text/plain": [
       "array(['Advanced Heart Failure and Transplant Cardiology',\n",
       "       'Allergy/ Immunology', 'Anesthesiology', 'Cardiology',\n",
       "       'Certified Clinical Nurse Specialist',\n",
       "       'Clinical Cardiac Electrophysiology',\n",
       "       'Critical Care (Intensivists)', 'Dentist', 'Dermatology',\n",
       "       'Emergency Medicine', 'Endocrinology', 'Family Medicine',\n",
       "       'Family Practice', 'Gastroenterology', 'General Practice',\n",
       "       'General Surgery', 'Geriatric Medicine', 'Hematology',\n",
       "       'Hematology-Oncology', 'Hospice and Palliative Care',\n",
       "       'Hospitalist', 'Infectious Disease', 'Internal Medicine',\n",
       "       'Interventional Cardiology', 'Interventional Pain Management',\n",
       "       'Medical Oncology', 'Nephrology', 'Neurology', 'Neuropsychiatry',\n",
       "       'Neurosurgery', 'Nurse Practitioner', 'Obstetrics & Gynecology',\n",
       "       'Ophthalmology', 'Optometry', 'Oral Surgery (Dentist only)',\n",
       "       'Orthopedic Surgery', 'Osteopathic Manipulative Medicine',\n",
       "       'Otolaryngology', 'Pain Management', 'Pediatric Medicine',\n",
       "       'Pharmacist', 'Physical Medicine and Rehabilitation',\n",
       "       'Physician Assistant', 'Podiatry', 'Psychiatry',\n",
       "       'Psychiatry & Neurology', 'Pulmonary Disease',\n",
       "       'Radiation Oncology', 'Rheumatology', 'Specialist',\n",
       "       'Sports Medicine',\n",
       "       'Student in an Organized Health Care Education/Training Program',\n",
       "       'Urology', 'Vascular Surgery'], dtype=object)"
      ]
     },
     "execution_count": 26,
     "metadata": {},
     "output_type": "execute_result"
    }
   ],
   "source": [
    "df['Prscrbr_Type'].cat.categories.values"
   ]
  },
  {
   "cell_type": "code",
   "execution_count": 89,
   "metadata": {},
   "outputs": [],
   "source": [
    "df_npi_type = df \\\n",
    "    .loc[:, ['Prscrbr_NPI', 'Prscrbr_Type']] \\\n",
    "    .groupby(['Prscrbr_NPI', 'Prscrbr_Type'], observed=True) \\\n",
    "    .count() \\\n",
    "    .reset_index() \\\n",
    "    .set_index('Prscrbr_NPI')\n",
    "\n",
    "df_npi = \\\n",
    "    pd.DataFrame(\n",
    "        df['Prscrbr_NPI'].cat.categories,\n",
    "        columns=['Prscrbr_NPI'],\n",
    "    ) \\\n",
    "    .reset_index() \\\n",
    "    .set_index('Prscrbr_NPI')\n",
    "\n",
    "df_npi = df_npi \\\n",
    "    .join(df_npi_type) \\\n",
    "    .reset_index() \\\n",
    "    .set_index('index')"
   ]
  },
  {
   "cell_type": "code",
   "execution_count": 90,
   "metadata": {},
   "outputs": [
    {
     "data": {
      "text/html": [
       "<div>\n",
       "<style scoped>\n",
       "    .dataframe tbody tr th:only-of-type {\n",
       "        vertical-align: middle;\n",
       "    }\n",
       "\n",
       "    .dataframe tbody tr th {\n",
       "        vertical-align: top;\n",
       "    }\n",
       "\n",
       "    .dataframe thead th {\n",
       "        text-align: right;\n",
       "    }\n",
       "</style>\n",
       "<table border=\"1\" class=\"dataframe\">\n",
       "  <thead>\n",
       "    <tr style=\"text-align: right;\">\n",
       "      <th></th>\n",
       "      <th>Prscrbr_NPI</th>\n",
       "      <th>Prscrbr_Type</th>\n",
       "    </tr>\n",
       "    <tr>\n",
       "      <th>index</th>\n",
       "      <th></th>\n",
       "      <th></th>\n",
       "    </tr>\n",
       "  </thead>\n",
       "  <tbody>\n",
       "    <tr>\n",
       "      <th>0</th>\n",
       "      <td>1003000126</td>\n",
       "      <td>Internal Medicine</td>\n",
       "    </tr>\n",
       "    <tr>\n",
       "      <th>1</th>\n",
       "      <td>1003000142</td>\n",
       "      <td>Anesthesiology</td>\n",
       "    </tr>\n",
       "    <tr>\n",
       "      <th>2</th>\n",
       "      <td>1003000530</td>\n",
       "      <td>Internal Medicine</td>\n",
       "    </tr>\n",
       "    <tr>\n",
       "      <th>3</th>\n",
       "      <td>1003000597</td>\n",
       "      <td>Urology</td>\n",
       "    </tr>\n",
       "    <tr>\n",
       "      <th>4</th>\n",
       "      <td>1003000902</td>\n",
       "      <td>Family Practice</td>\n",
       "    </tr>\n",
       "    <tr>\n",
       "      <th>...</th>\n",
       "      <td>...</td>\n",
       "      <td>...</td>\n",
       "    </tr>\n",
       "    <tr>\n",
       "      <th>537479</th>\n",
       "      <td>1992998926</td>\n",
       "      <td>Hematology-Oncology</td>\n",
       "    </tr>\n",
       "    <tr>\n",
       "      <th>537480</th>\n",
       "      <td>1992999031</td>\n",
       "      <td>Hematology-Oncology</td>\n",
       "    </tr>\n",
       "    <tr>\n",
       "      <th>537481</th>\n",
       "      <td>1992999122</td>\n",
       "      <td>Internal Medicine</td>\n",
       "    </tr>\n",
       "    <tr>\n",
       "      <th>537482</th>\n",
       "      <td>1992999437</td>\n",
       "      <td>Emergency Medicine</td>\n",
       "    </tr>\n",
       "    <tr>\n",
       "      <th>537483</th>\n",
       "      <td>1992999551</td>\n",
       "      <td>Internal Medicine</td>\n",
       "    </tr>\n",
       "  </tbody>\n",
       "</table>\n",
       "<p>537484 rows × 2 columns</p>\n",
       "</div>"
      ],
      "text/plain": [
       "        Prscrbr_NPI         Prscrbr_Type\n",
       "index                                   \n",
       "0        1003000126    Internal Medicine\n",
       "1        1003000142       Anesthesiology\n",
       "2        1003000530    Internal Medicine\n",
       "3        1003000597              Urology\n",
       "4        1003000902      Family Practice\n",
       "...             ...                  ...\n",
       "537479   1992998926  Hematology-Oncology\n",
       "537480   1992999031  Hematology-Oncology\n",
       "537481   1992999122    Internal Medicine\n",
       "537482   1992999437   Emergency Medicine\n",
       "537483   1992999551    Internal Medicine\n",
       "\n",
       "[537484 rows x 2 columns]"
      ]
     },
     "execution_count": 90,
     "metadata": {},
     "output_type": "execute_result"
    }
   ],
   "source": [
    "df_npi"
   ]
  },
  {
   "cell_type": "code",
   "execution_count": 92,
   "metadata": {},
   "outputs": [],
   "source": [
    "df_npi.to_csv(DATA_DIR / 'physician_labels.tsv', sep='\\t', index=False)"
   ]
  },
  {
   "cell_type": "code",
   "execution_count": 91,
   "metadata": {},
   "outputs": [],
   "source": [
    "np.savetxt(\n",
    "    DATA_DIR / 'physician_labels.tsv',\n",
    "    df_npi,\n",
    "    delimiter='\\t',\n",
    "    fmt='%s',\n",
    "    encoding='utf-8',\n",
    ")"
   ]
  },
  {
   "cell_type": "code",
   "execution_count": null,
   "metadata": {},
   "outputs": [],
   "source": []
  }
 ],
 "metadata": {
  "kernelspec": {
   "display_name": "dorgas",
   "language": "python",
   "name": "python3"
  },
  "language_info": {
   "codemirror_mode": {
    "name": "ipython",
    "version": 3
   },
   "file_extension": ".py",
   "mimetype": "text/x-python",
   "name": "python",
   "nbconvert_exporter": "python",
   "pygments_lexer": "ipython3",
   "version": "3.12.4"
  }
 },
 "nbformat": 4,
 "nbformat_minor": 2
}
